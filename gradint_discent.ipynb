{
 "cells": [
  {
   "cell_type": "markdown",
   "metadata": {},
   "source": [
    "глава 4 - Градиентный спуск"
   ]
  },
  {
   "cell_type": "code",
   "execution_count": 2,
   "metadata": {},
   "outputs": [
    {
     "name": "stdout",
     "output_type": "stream",
     "text": [
      "0.30250000000000005\n"
     ]
    }
   ],
   "source": [
    "knob_weight = 0.5\n",
    "input = 0.5\n",
    "goal_pred = 0.8\n",
    "pred = input * knob_weight\n",
    "error = (pred - goal_pred) ** 2\n",
    "print(error)"
   ]
  },
  {
   "cell_type": "markdown",
   "metadata": {},
   "source": [
    "нейронка - лбучение методом \"холодно/горячо\""
   ]
  },
  {
   "cell_type": "code",
   "execution_count": 10,
   "metadata": {},
   "outputs": [
    {
     "name": "stdout",
     "output_type": "stream",
     "text": [
      "error: 0.30250000000000005 Prediction: 0.8004999999999671\n"
     ]
    }
   ],
   "source": [
    "weight = 0.5\n",
    "input = 0.5\n",
    "goal_prediction = 0.8\n",
    "\n",
    "step_amaount = 0.001\n",
    "\n",
    "for iteration in range(10102):\n",
    "    prediction = input * weight\n",
    "    up_prediction = input * (weight + step_amaount)\n",
    "    up_error = (goal_prediction - up_prediction) ** 2\n",
    "\n",
    "    down_prediction = input * (weight - step_amaount)\n",
    "    down_error = (goal_prediction - down_prediction) ** 2\n",
    "\n",
    "    if(down_error < up_error):\n",
    "        weight = weight - step_amaount\n",
    "\n",
    "    if(down_error > up_error):\n",
    "        weight = weight + step_amaount\n",
    "\n",
    "print('error: ' + str(error) + \" Prediction: \" + str(prediction))\n",
    "\n"
   ]
  },
  {
   "cell_type": "markdown",
   "metadata": {},
   "source": [
    "Градиентный спуск"
   ]
  },
  {
   "cell_type": "code",
   "execution_count": 19,
   "metadata": {},
   "outputs": [
    {
     "name": "stdout",
     "output_type": "stream",
     "text": [
      "Error: 0.30250000000000005 Prediction: 0.25\n",
      "Error: 0.17015625000000004 Prediction: 0.3875\n",
      "Error: 0.095712890625 Prediction: 0.49062500000000003\n",
      "Error: 0.05383850097656251 Prediction: 0.56796875\n",
      "Error: 0.03028415679931642 Prediction: 0.6259765625\n",
      "Error: 0.0170348381996155 Prediction: 0.669482421875\n",
      "Error: 0.00958209648728372 Prediction: 0.70211181640625\n",
      "Error: 0.005389929274097089 Prediction: 0.7265838623046875\n",
      "Error: 0.0030318352166796153 Prediction: 0.7449378967285156\n",
      "Error: 0.0017054073093822882 Prediction: 0.7587034225463867\n",
      "Error: 0.0009592916115275371 Prediction: 0.76902756690979\n",
      "Error: 0.0005396015314842384 Prediction: 0.7767706751823426\n",
      "Error: 0.000303525861459885 Prediction: 0.7825780063867569\n",
      "Error: 0.00017073329707118678 Prediction: 0.7869335047900676\n",
      "Error: 9.603747960254256e-05 Prediction: 0.7902001285925507\n",
      "Error: 5.402108227642978e-05 Prediction: 0.7926500964444131\n",
      "Error: 3.038685878049206e-05 Prediction: 0.7944875723333098\n",
      "Error: 1.7092608064027242e-05 Prediction: 0.7958656792499823\n",
      "Error: 9.614592036015323e-06 Prediction: 0.7968992594374867\n",
      "Error: 5.408208020258491e-06 Prediction: 0.7976744445781151\n",
      "Error: 3.0421170113954975e-06 Prediction: 0.7982558334335863\n",
      "Error: 1.7111908189101127e-06 Prediction: 0.7986918750751897\n",
      "Error: 9.625448356369383e-07 Prediction: 0.7990189063063923\n",
      "Error: 5.41431470045737e-07 Prediction: 0.7992641797297942\n",
      "Error: 3.045552019007577e-07 Prediction: 0.7994481347973457\n",
      "Error: 1.7131230106922215e-07 Prediction: 0.7995861010980092\n",
      "Error: 9.636316935140299e-08 Prediction: 0.799689575823507\n",
      "Error: 5.420428276019003e-08 Prediction: 0.7997671818676302\n",
      "Error: 3.048990905260689e-08 Prediction: 0.7998253864007226\n",
      "Error: 1.715057384208411e-08 Prediction: 0.799869039800542\n",
      "Error: 9.647197786166859e-09 Prediction: 0.7999017798504066\n",
      "Error: 5.426548754714769e-09 Prediction: 0.799926334887805\n",
      "Error: 3.0524336745270573e-09 Prediction: 0.7999447511658537\n",
      "Error: 1.71699394192147e-09 Prediction: 0.7999585633743903\n",
      "Error: 9.658090923291016e-10 Prediction: 0.7999689225307928\n",
      "Error: 5.432676144338258e-10 Prediction: 0.7999766918980946\n",
      "Error: 3.05588033119027e-10 Prediction: 0.799982518923571\n",
      "Error: 1.718932686294527e-10 Prediction: 0.7999868891926782\n",
      "Error: 9.668996360515884e-11 Prediction: 0.7999901668945086\n",
      "Error: 5.4388104527083076e-11 Prediction: 0.7999926251708815\n",
      "Error: 3.059330879648423e-11 Prediction: 0.7999944688781612\n",
      "Error: 1.7208736198252657e-11 Prediction: 0.7999958516586209\n",
      "Error: 9.67991411134441e-12 Prediction: 0.7999968887439657\n",
      "Error: 5.4449516878902955e-12 Prediction: 0.7999976665579742\n",
      "Error: 3.062785324438291e-12 Prediction: 0.7999982499184807\n",
      "Error: 1.7228167450694004e-12 Prediction: 0.7999986874388605\n",
      "Error: 9.69084418992245e-13 Prediction: 0.7999990155791454\n",
      "Error: 5.451099856831379e-13 Prediction: 0.7999992616843591\n",
      "Error: 3.066243669160265e-13 Prediction: 0.7999994462632694\n",
      "Error: 1.724762063902649e-13 Prediction: 0.799999584697452\n",
      "Error: 9.701786611181445e-14 Prediction: 0.799999688523089\n",
      "Error: 5.4572549700863455e-14 Prediction: 0.7999997663923167\n",
      "Error: 3.0697059197009823e-14 Prediction: 0.7999998247942376\n",
      "Error: 1.726709580561243e-14 Prediction: 0.7999998685956782\n",
      "Error: 9.712741379715384e-15 Prediction: 0.7999999014467587\n",
      "Error: 5.463417034296109e-15 Prediction: 0.799999926085069\n",
      "Error: 3.0731720817915613e-15 Prediction: 0.7999999445638017\n",
      "Error: 1.7286592960077533e-15 Prediction: 0.7999999584228513\n",
      "Error: 9.723708522733647e-16 Prediction: 0.7999999688171385\n",
      "Error: 5.469586031055202e-16 Prediction: 0.7999999766128539\n",
      "Error: 3.076642152205407e-16 Prediction: 0.7999999824596404\n",
      "Error: 1.7306112252208248e-16 Prediction: 0.7999999868447303\n",
      "Error: 9.734688141867139e-17 Prediction: 0.7999999901335477\n",
      "Error: 5.475761997645547e-17 Prediction: 0.7999999926001609\n",
      "Error: 3.0801161852916594e-17 Prediction: 0.7999999944501206\n",
      "Error: 1.732565308014529e-17 Prediction: 0.7999999958375905\n",
      "Error: 9.745679857581726e-18 Prediction: 0.7999999968781929\n",
      "Error: 5.48194478991839e-18 Prediction: 0.7999999976586447\n",
      "Error: 3.0835937493721028e-18 Prediction: 0.7999999982439836\n",
      "Error: 1.7345213378040694e-18 Prediction: 0.7999999986829878\n",
      "Error: 9.75668252514789e-19 Prediction: 0.7999999990122408\n",
      "Error: 5.488133920395688e-19 Prediction: 0.7999999992591806\n",
      "Error: 3.0870753302225747e-19 Prediction: 0.7999999994443855\n",
      "Error: 1.7364796419291793e-19 Prediction: 0.7999999995832892\n",
      "Error: 9.767694516036773e-20 Prediction: 0.7999999996874669\n",
      "Error: 5.494328165270685e-20 Prediction: 0.7999999997656002\n",
      "Error: 3.0905576411943826e-20 Prediction: 0.7999999998242002\n",
      "Error: 1.7384386731718402e-20 Prediction: 0.7999999998681502\n",
      "Error: 9.778706557888042e-21 Prediction: 0.7999999999011127\n",
      "Error: 5.5005306728404634e-21 Prediction: 0.7999999999258345\n",
      "Error: 3.0940485034727607e-21 Prediction: 0.7999999999443759\n",
      "Error: 1.74040691484924e-21 Prediction: 0.7999999999582819\n",
      "Error: 9.789788896026975e-22 Prediction: 0.7999999999687114\n",
      "Error: 5.506743227510364e-22 Prediction: 0.7999999999765336\n",
      "Error: 3.097533295609454e-22 Prediction: 0.7999999999824002\n",
      "Error: 1.742369806181088e-22 Prediction: 0.7999999999868002\n",
      "Error: 9.800720248949661e-23 Prediction: 0.7999999999901002\n",
      "Error: 5.512987573225441e-23 Prediction: 0.7999999999925751\n",
      "Error: 3.1009936851229054e-23 Prediction: 0.7999999999944314\n",
      "Error: 1.7442625798085908e-23 Prediction: 0.7999999999958236\n",
      "Error: 9.811824772741521e-24 Prediction: 0.7999999999968677\n",
      "Error: 5.518890614448829e-24 Prediction: 0.7999999999976508\n",
      "Error: 3.1043759706274664e-24 Prediction: 0.7999999999982381\n",
      "Error: 1.746064776919994e-24 Prediction: 0.7999999999986787\n",
      "Error: 9.820514124916337e-25 Prediction: 0.7999999999990091\n",
      "Error: 5.523214065247506e-25 Prediction: 0.7999999999992569\n",
      "Error: 3.1061891181143103e-25 Prediction: 0.7999999999994427\n",
      "Error: 1.7472313789392995e-25 Prediction: 0.799999999999582\n",
      "Error: 9.829916853868506e-26 Prediction: 0.7999999999996865\n",
      "Error: 5.529328230301035e-26 Prediction: 0.7999999999997649\n"
     ]
    }
   ],
   "source": [
    "weight = 0.5\n",
    "goal_pred = 0.8\n",
    "input = 0.5\n",
    "\n",
    "for iteration in range(100):\n",
    "    pred = input * weight\n",
    "    error = (pred - goal_pred) ** 2\n",
    "    direction_and_amaount = (pred - goal_pred) * input\n",
    "    weight = weight - direction_and_amaount\n",
    "    print('Error: ' + str(error) + ' Prediction: ' + str(pred))"
   ]
  },
  {
   "cell_type": "markdown",
   "metadata": {},
   "source": [
    "усовершенствованная версия\n"
   ]
  },
  {
   "cell_type": "code",
   "execution_count": 9,
   "metadata": {},
   "outputs": [
    {
     "name": "stdout",
     "output_type": "stream",
     "text": [
      "Error : 0.6400000000000001 + Prediction: 0.0 + Weight: 0.4\n",
      "Error : 0.3600000000000001 + Prediction: 0.2 + Weight: 0.7000000000000001\n",
      "Error : 0.2025 + Prediction: 0.35000000000000003 + Weight: 0.925\n",
      "Error : 0.11390625000000001 + Prediction: 0.4625 + Weight: 1.09375\n",
      "Error : 0.06407226562500003 + Prediction: 0.546875 + Weight: 1.2203125\n",
      "Error : 0.036040649414062535 + Prediction: 0.61015625 + Weight: 1.315234375\n",
      "Error : 0.020272865295410177 + Prediction: 0.6576171875 + Weight: 1.38642578125\n",
      "Error : 0.011403486728668217 + Prediction: 0.693212890625 + Weight: 1.4398193359375\n",
      "Error : 0.006414461284875877 + Prediction: 0.71990966796875 + Weight: 1.479864501953125\n",
      "Error : 0.0036081344727426873 + Prediction: 0.7399322509765625 + Weight: 1.5098983764648437\n",
      "Error : 0.0020295756409177616 + Prediction: 0.7549491882324219 + Weight: 1.5324237823486329\n",
      "Error : 0.001141636298016239 + Prediction: 0.7662118911743164 + Weight: 1.5493178367614746\n",
      "Error : 0.0006421704176341359 + Prediction: 0.7746589183807373 + Weight: 1.5619883775711059\n",
      "Error : 0.00036122085991920354 + Prediction: 0.7809941887855529 + Weight: 1.5714912831783294\n"
     ]
    }
   ],
   "source": [
    "weight, goal_pred, input = (0.0,0.8,0.5)\n",
    "\n",
    "for iteration in range(14):\n",
    "    pred = input * weight\n",
    "    error = (pred - goal_pred)**2\n",
    "    delta = pred - goal_pred\n",
    "    weight_delta = delta * input\n",
    "    weight = weight - weight_delta\n",
    "    print(f\"Error : {error} + Prediction: {pred} + Weight: {weight}\")"
   ]
  },
  {
   "cell_type": "markdown",
   "metadata": {},
   "source": [
    "как движется обучение по пораболе"
   ]
  },
  {
   "cell_type": "code",
   "execution_count": 12,
   "metadata": {},
   "outputs": [
    {
     "name": "stdout",
     "output_type": "stream",
     "text": [
      "----\n",
      "Weight: 0.0\n",
      "Error: 0.6400000000000001 Prediction: 0.0\n",
      "Delta: -0.8 Weight Delta: -0.8800000000000001\n",
      "----\n",
      "Weight: 0.8800000000000001\n",
      "Error: 0.02822400000000005 Prediction: 0.9680000000000002\n",
      "Delta: 0.16800000000000015 Weight Delta: 0.1848000000000002\n",
      "----\n",
      "Weight: 0.6951999999999999\n",
      "Error: 0.0012446784000000064 Prediction: 0.76472\n",
      "Delta: -0.03528000000000009 Weight Delta: -0.0388080000000001\n",
      "----\n",
      "Weight: 0.734008\n",
      "Error: 5.4890317439999896e-05 Prediction: 0.8074088\n",
      "Delta: 0.007408799999999993 Weight Delta: 0.008149679999999992\n"
     ]
    }
   ],
   "source": [
    "weight, goal_pred, input = (0.0, 0.8, 1.1)\n",
    "\n",
    "for iteration in range(4):\n",
    "    print(f'----\\nWeight: {weight}')\n",
    "    pred = input * weight\n",
    "    error = (pred - goal_pred) ** 2\n",
    "    delta = pred - goal_pred\n",
    "    weight_delta = delta * input\n",
    "    weight = weight - weight_delta\n",
    "    print(f'Error: {error} Prediction: {pred}')\n",
    "    print(f'Delta: {delta} Weight Delta: {weight_delta}')"
   ]
  },
  {
   "cell_type": "code",
   "execution_count": null,
   "metadata": {},
   "outputs": [],
   "source": []
  }
 ],
 "metadata": {
  "kernelspec": {
   "display_name": "Python 3",
   "language": "python",
   "name": "python3"
  },
  "language_info": {
   "codemirror_mode": {
    "name": "ipython",
    "version": 3
   },
   "file_extension": ".py",
   "mimetype": "text/x-python",
   "name": "python",
   "nbconvert_exporter": "python",
   "pygments_lexer": "ipython3",
   "version": "3.7.6"
  }
 },
 "nbformat": 4,
 "nbformat_minor": 4
}
